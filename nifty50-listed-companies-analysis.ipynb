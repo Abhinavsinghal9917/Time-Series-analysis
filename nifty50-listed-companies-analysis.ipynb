{
 "cells": [
  {
   "cell_type": "code",
   "execution_count": 1,
   "id": "469d6f60",
   "metadata": {
    "_cell_guid": "b1076dfc-b9ad-4769-8c92-a6c4dae69d19",
    "_uuid": "8f2839f25d086af736a60e9eeb907d3b93b6e0e5",
    "execution": {
     "iopub.execute_input": "2022-06-21T11:19:18.371295Z",
     "iopub.status.busy": "2022-06-21T11:19:18.370734Z",
     "iopub.status.idle": "2022-06-21T11:19:18.415373Z",
     "shell.execute_reply": "2022-06-21T11:19:18.414539Z"
    },
    "papermill": {
     "duration": 0.055695,
     "end_time": "2022-06-21T11:19:18.421170",
     "exception": false,
     "start_time": "2022-06-21T11:19:18.365475",
     "status": "completed"
    },
    "tags": []
   },
   "outputs": [
    {
     "name": "stdout",
     "output_type": "stream",
     "text": [
      "/kaggle/input/nifty50-stock-market-data/HDFCBANK.csv\n",
      "/kaggle/input/nifty50-stock-market-data/GRASIM.csv\n",
      "/kaggle/input/nifty50-stock-market-data/WIPRO.csv\n",
      "/kaggle/input/nifty50-stock-market-data/stock_metadata.csv\n",
      "/kaggle/input/nifty50-stock-market-data/BPCL.csv\n",
      "/kaggle/input/nifty50-stock-market-data/INFY.csv\n",
      "/kaggle/input/nifty50-stock-market-data/LT.csv\n",
      "/kaggle/input/nifty50-stock-market-data/RELIANCE.csv\n",
      "/kaggle/input/nifty50-stock-market-data/BRITANNIA.csv\n",
      "/kaggle/input/nifty50-stock-market-data/INFRATEL.csv\n",
      "/kaggle/input/nifty50-stock-market-data/HEROMOTOCO.csv\n",
      "/kaggle/input/nifty50-stock-market-data/HINDUNILVR.csv\n",
      "/kaggle/input/nifty50-stock-market-data/TATAMOTORS.csv\n",
      "/kaggle/input/nifty50-stock-market-data/MM.csv\n",
      "/kaggle/input/nifty50-stock-market-data/HDFC.csv\n",
      "/kaggle/input/nifty50-stock-market-data/JSWSTEEL.csv\n",
      "/kaggle/input/nifty50-stock-market-data/TITAN.csv\n",
      "/kaggle/input/nifty50-stock-market-data/HINDALCO.csv\n",
      "/kaggle/input/nifty50-stock-market-data/AXISBANK.csv\n",
      "/kaggle/input/nifty50-stock-market-data/HCLTECH.csv\n",
      "/kaggle/input/nifty50-stock-market-data/ADANIPORTS.csv\n",
      "/kaggle/input/nifty50-stock-market-data/GAIL.csv\n",
      "/kaggle/input/nifty50-stock-market-data/NIFTY50_all.csv\n",
      "/kaggle/input/nifty50-stock-market-data/BAJAJFINSV.csv\n",
      "/kaggle/input/nifty50-stock-market-data/BAJFINANCE.csv\n",
      "/kaggle/input/nifty50-stock-market-data/ICICIBANK.csv\n",
      "/kaggle/input/nifty50-stock-market-data/ZEEL.csv\n",
      "/kaggle/input/nifty50-stock-market-data/ASIANPAINT.csv\n",
      "/kaggle/input/nifty50-stock-market-data/IOC.csv\n",
      "/kaggle/input/nifty50-stock-market-data/TATASTEEL.csv\n",
      "/kaggle/input/nifty50-stock-market-data/COALINDIA.csv\n",
      "/kaggle/input/nifty50-stock-market-data/NESTLEIND.csv\n",
      "/kaggle/input/nifty50-stock-market-data/DRREDDY.csv\n",
      "/kaggle/input/nifty50-stock-market-data/ONGC.csv\n",
      "/kaggle/input/nifty50-stock-market-data/EICHERMOT.csv\n",
      "/kaggle/input/nifty50-stock-market-data/UPL.csv\n",
      "/kaggle/input/nifty50-stock-market-data/SUNPHARMA.csv\n",
      "/kaggle/input/nifty50-stock-market-data/ULTRACEMCO.csv\n",
      "/kaggle/input/nifty50-stock-market-data/CIPLA.csv\n",
      "/kaggle/input/nifty50-stock-market-data/SHREECEM.csv\n",
      "/kaggle/input/nifty50-stock-market-data/VEDL.csv\n",
      "/kaggle/input/nifty50-stock-market-data/TCS.csv\n",
      "/kaggle/input/nifty50-stock-market-data/NTPC.csv\n",
      "/kaggle/input/nifty50-stock-market-data/MARUTI.csv\n",
      "/kaggle/input/nifty50-stock-market-data/KOTAKBANK.csv\n",
      "/kaggle/input/nifty50-stock-market-data/ITC.csv\n",
      "/kaggle/input/nifty50-stock-market-data/BAJAJ-AUTO.csv\n",
      "/kaggle/input/nifty50-stock-market-data/SBIN.csv\n",
      "/kaggle/input/nifty50-stock-market-data/INDUSINDBK.csv\n",
      "/kaggle/input/nifty50-stock-market-data/BHARTIARTL.csv\n",
      "/kaggle/input/nifty50-stock-market-data/TECHM.csv\n",
      "/kaggle/input/nifty50-stock-market-data/POWERGRID.csv\n"
     ]
    }
   ],
   "source": [
    "# This Python 3 environment comes with many helpful analytics libraries installed\n",
    "# It is defined by the kaggle/python Docker image: https://github.com/kaggle/docker-python\n",
    "# For example, here's several helpful packages to load\n",
    "\n",
    "import numpy as np # linear algebra\n",
    "import pandas as pd # data processing, CSV file I/O (e.g. pd.read_csv)\n",
    "\n",
    "# Input data files are available in the read-only \"../input/\" directory\n",
    "# For example, running this (by clicking run or pressing Shift+Enter) will list all files under the input directory\n",
    "\n",
    "import os\n",
    "for dirname, _, filenames in os.walk('/kaggle/input'):\n",
    "    for filename in filenames:\n",
    "        print(os.path.join(dirname, filename))\n",
    "\n",
    "# You can write up to 20GB to the current directory (/kaggle/working/) that gets preserved as output when you create a version using \"Save & Run All\" \n",
    "# You can also write temporary files to /kaggle/temp/, but they won't be saved outside of the current session"
   ]
  },
  {
   "cell_type": "markdown",
   "id": "05202b30",
   "metadata": {
    "papermill": {
     "duration": 0.004013,
     "end_time": "2022-06-21T11:19:18.429685",
     "exception": false,
     "start_time": "2022-06-21T11:19:18.425672",
     "status": "completed"
    },
    "tags": []
   },
   "source": [
    "In this notebook, we analyse data about companies lised on NIFTY50 index of NSE India Stock Exchange. \n",
    "We will use pandasql,pandas and matplotlib. Here We determine:-\n",
    "\n",
    "1.To which categories of Industries do the companies listed belong and how many companies each industry has\n",
    "2."
   ]
  },
  {
   "cell_type": "markdown",
   "id": "868c04dd",
   "metadata": {
    "papermill": {
     "duration": 0.003864,
     "end_time": "2022-06-21T11:19:18.437684",
     "exception": false,
     "start_time": "2022-06-21T11:19:18.433820",
     "status": "completed"
    },
    "tags": []
   },
   "source": [
    "We start by loading the stock_metadata.csv file to a pandas dataframe. Later we use a sql query to list the names of all the industries that the companies belong to."
   ]
  },
  {
   "cell_type": "code",
   "execution_count": 2,
   "id": "7a61f0a7",
   "metadata": {
    "execution": {
     "iopub.execute_input": "2022-06-21T11:19:18.447664Z",
     "iopub.status.busy": "2022-06-21T11:19:18.447257Z",
     "iopub.status.idle": "2022-06-21T11:19:18.477497Z",
     "shell.execute_reply": "2022-06-21T11:19:18.477000Z"
    },
    "papermill": {
     "duration": 0.037677,
     "end_time": "2022-06-21T11:19:18.479551",
     "exception": false,
     "start_time": "2022-06-21T11:19:18.441874",
     "status": "completed"
    },
    "tags": []
   },
   "outputs": [
    {
     "data": {
      "text/html": [
       "<div>\n",
       "<style scoped>\n",
       "    .dataframe tbody tr th:only-of-type {\n",
       "        vertical-align: middle;\n",
       "    }\n",
       "\n",
       "    .dataframe tbody tr th {\n",
       "        vertical-align: top;\n",
       "    }\n",
       "\n",
       "    .dataframe thead th {\n",
       "        text-align: right;\n",
       "    }\n",
       "</style>\n",
       "<table border=\"1\" class=\"dataframe\">\n",
       "  <thead>\n",
       "    <tr style=\"text-align: right;\">\n",
       "      <th></th>\n",
       "      <th>Company Name</th>\n",
       "      <th>Industry</th>\n",
       "      <th>Symbol</th>\n",
       "      <th>Series</th>\n",
       "      <th>ISIN Code</th>\n",
       "    </tr>\n",
       "  </thead>\n",
       "  <tbody>\n",
       "    <tr>\n",
       "      <th>0</th>\n",
       "      <td>Adani Ports and Special Economic Zone Ltd.</td>\n",
       "      <td>SERVICES</td>\n",
       "      <td>ADANIPORTS</td>\n",
       "      <td>EQ</td>\n",
       "      <td>INE742F01042</td>\n",
       "    </tr>\n",
       "    <tr>\n",
       "      <th>1</th>\n",
       "      <td>Asian Paints Ltd.</td>\n",
       "      <td>CONSUMER GOODS</td>\n",
       "      <td>ASIANPAINT</td>\n",
       "      <td>EQ</td>\n",
       "      <td>INE021A01026</td>\n",
       "    </tr>\n",
       "    <tr>\n",
       "      <th>2</th>\n",
       "      <td>Axis Bank Ltd.</td>\n",
       "      <td>FINANCIAL SERVICES</td>\n",
       "      <td>AXISBANK</td>\n",
       "      <td>EQ</td>\n",
       "      <td>INE238A01034</td>\n",
       "    </tr>\n",
       "    <tr>\n",
       "      <th>3</th>\n",
       "      <td>Bajaj Auto Ltd.</td>\n",
       "      <td>AUTOMOBILE</td>\n",
       "      <td>BAJAJ-AUTO</td>\n",
       "      <td>EQ</td>\n",
       "      <td>INE917I01010</td>\n",
       "    </tr>\n",
       "    <tr>\n",
       "      <th>4</th>\n",
       "      <td>Bajaj Finserv Ltd.</td>\n",
       "      <td>FINANCIAL SERVICES</td>\n",
       "      <td>BAJAJFINSV</td>\n",
       "      <td>EQ</td>\n",
       "      <td>INE918I01018</td>\n",
       "    </tr>\n",
       "  </tbody>\n",
       "</table>\n",
       "</div>"
      ],
      "text/plain": [
       "                                 Company Name            Industry      Symbol  \\\n",
       "0  Adani Ports and Special Economic Zone Ltd.            SERVICES  ADANIPORTS   \n",
       "1                           Asian Paints Ltd.      CONSUMER GOODS  ASIANPAINT   \n",
       "2                              Axis Bank Ltd.  FINANCIAL SERVICES    AXISBANK   \n",
       "3                             Bajaj Auto Ltd.          AUTOMOBILE  BAJAJ-AUTO   \n",
       "4                          Bajaj Finserv Ltd.  FINANCIAL SERVICES  BAJAJFINSV   \n",
       "\n",
       "  Series     ISIN Code  \n",
       "0     EQ  INE742F01042  \n",
       "1     EQ  INE021A01026  \n",
       "2     EQ  INE238A01034  \n",
       "3     EQ  INE917I01010  \n",
       "4     EQ  INE918I01018  "
      ]
     },
     "execution_count": 2,
     "metadata": {},
     "output_type": "execute_result"
    }
   ],
   "source": [
    "companies = pd.read_csv(\"../input/nifty50-stock-market-data/stock_metadata.csv\")\n",
    "companies.head()"
   ]
  },
  {
   "cell_type": "code",
   "execution_count": 3,
   "id": "dff9471f",
   "metadata": {
    "execution": {
     "iopub.execute_input": "2022-06-21T11:19:18.490259Z",
     "iopub.status.busy": "2022-06-21T11:19:18.489528Z",
     "iopub.status.idle": "2022-06-21T11:19:18.496957Z",
     "shell.execute_reply": "2022-06-21T11:19:18.496271Z"
    },
    "papermill": {
     "duration": 0.014643,
     "end_time": "2022-06-21T11:19:18.498932",
     "exception": false,
     "start_time": "2022-06-21T11:19:18.484289",
     "status": "completed"
    },
    "tags": []
   },
   "outputs": [],
   "source": [
    "from pandasql import sqldf\n",
    "pysqldf = lambda q: sqldf(q, globals())"
   ]
  },
  {
   "cell_type": "code",
   "execution_count": 4,
   "id": "00a82ca7",
   "metadata": {
    "execution": {
     "iopub.execute_input": "2022-06-21T11:19:18.509939Z",
     "iopub.status.busy": "2022-06-21T11:19:18.508963Z",
     "iopub.status.idle": "2022-06-21T11:19:18.551932Z",
     "shell.execute_reply": "2022-06-21T11:19:18.551150Z"
    },
    "papermill": {
     "duration": 0.050262,
     "end_time": "2022-06-21T11:19:18.553781",
     "exception": false,
     "start_time": "2022-06-21T11:19:18.503519",
     "status": "completed"
    },
    "tags": []
   },
   "outputs": [
    {
     "data": {
      "text/html": [
       "<div>\n",
       "<style scoped>\n",
       "    .dataframe tbody tr th:only-of-type {\n",
       "        vertical-align: middle;\n",
       "    }\n",
       "\n",
       "    .dataframe tbody tr th {\n",
       "        vertical-align: top;\n",
       "    }\n",
       "\n",
       "    .dataframe thead th {\n",
       "        text-align: right;\n",
       "    }\n",
       "</style>\n",
       "<table border=\"1\" class=\"dataframe\">\n",
       "  <thead>\n",
       "    <tr style=\"text-align: right;\">\n",
       "      <th></th>\n",
       "      <th>Industry</th>\n",
       "      <th>Number_Of_Companies</th>\n",
       "    </tr>\n",
       "  </thead>\n",
       "  <tbody>\n",
       "    <tr>\n",
       "      <th>0</th>\n",
       "      <td>AUTOMOBILE</td>\n",
       "      <td>6</td>\n",
       "    </tr>\n",
       "    <tr>\n",
       "      <th>1</th>\n",
       "      <td>CEMENT &amp; CEMENT PRODUCTS</td>\n",
       "      <td>3</td>\n",
       "    </tr>\n",
       "    <tr>\n",
       "      <th>2</th>\n",
       "      <td>CONSTRUCTION</td>\n",
       "      <td>1</td>\n",
       "    </tr>\n",
       "    <tr>\n",
       "      <th>3</th>\n",
       "      <td>CONSUMER GOODS</td>\n",
       "      <td>6</td>\n",
       "    </tr>\n",
       "    <tr>\n",
       "      <th>4</th>\n",
       "      <td>ENERGY</td>\n",
       "      <td>7</td>\n",
       "    </tr>\n",
       "    <tr>\n",
       "      <th>5</th>\n",
       "      <td>FERTILISERS &amp; PESTICIDES</td>\n",
       "      <td>1</td>\n",
       "    </tr>\n",
       "    <tr>\n",
       "      <th>6</th>\n",
       "      <td>FINANCIAL SERVICES</td>\n",
       "      <td>9</td>\n",
       "    </tr>\n",
       "    <tr>\n",
       "      <th>7</th>\n",
       "      <td>IT</td>\n",
       "      <td>5</td>\n",
       "    </tr>\n",
       "    <tr>\n",
       "      <th>8</th>\n",
       "      <td>MEDIA &amp; ENTERTAINMENT</td>\n",
       "      <td>1</td>\n",
       "    </tr>\n",
       "    <tr>\n",
       "      <th>9</th>\n",
       "      <td>METALS</td>\n",
       "      <td>5</td>\n",
       "    </tr>\n",
       "    <tr>\n",
       "      <th>10</th>\n",
       "      <td>PHARMA</td>\n",
       "      <td>3</td>\n",
       "    </tr>\n",
       "    <tr>\n",
       "      <th>11</th>\n",
       "      <td>SERVICES</td>\n",
       "      <td>1</td>\n",
       "    </tr>\n",
       "    <tr>\n",
       "      <th>12</th>\n",
       "      <td>TELECOM</td>\n",
       "      <td>2</td>\n",
       "    </tr>\n",
       "  </tbody>\n",
       "</table>\n",
       "</div>"
      ],
      "text/plain": [
       "                    Industry  Number_Of_Companies\n",
       "0                 AUTOMOBILE                    6\n",
       "1   CEMENT & CEMENT PRODUCTS                    3\n",
       "2               CONSTRUCTION                    1\n",
       "3             CONSUMER GOODS                    6\n",
       "4                     ENERGY                    7\n",
       "5   FERTILISERS & PESTICIDES                    1\n",
       "6         FINANCIAL SERVICES                    9\n",
       "7                         IT                    5\n",
       "8      MEDIA & ENTERTAINMENT                    1\n",
       "9                     METALS                    5\n",
       "10                    PHARMA                    3\n",
       "11                  SERVICES                    1\n",
       "12                   TELECOM                    2"
      ]
     },
     "execution_count": 4,
     "metadata": {},
     "output_type": "execute_result"
    }
   ],
   "source": [
    "industries_query = \"\"\"SELECT Industry,COUNT(1) AS Number_Of_Companies\n",
    "       FROM companies\n",
    "       GROUP BY Industry;\"\"\"\n",
    "industries = pysqldf(industries_query)\n",
    "industries"
   ]
  },
  {
   "cell_type": "markdown",
   "id": "7dd10c7e",
   "metadata": {
    "papermill": {
     "duration": 0.004559,
     "end_time": "2022-06-21T11:19:18.563472",
     "exception": false,
     "start_time": "2022-06-21T11:19:18.558913",
     "status": "completed"
    },
    "tags": []
   },
   "source": [
    "Now we plot this data using matplotlib"
   ]
  },
  {
   "cell_type": "code",
   "execution_count": 5,
   "id": "8806ca7d",
   "metadata": {
    "execution": {
     "iopub.execute_input": "2022-06-21T11:19:18.574721Z",
     "iopub.status.busy": "2022-06-21T11:19:18.574175Z",
     "iopub.status.idle": "2022-06-21T11:19:31.885600Z",
     "shell.execute_reply": "2022-06-21T11:19:31.884536Z"
    },
    "papermill": {
     "duration": 13.319239,
     "end_time": "2022-06-21T11:19:31.887489",
     "exception": false,
     "start_time": "2022-06-21T11:19:18.568250",
     "status": "completed"
    },
    "tags": []
   },
   "outputs": [
    {
     "name": "stdout",
     "output_type": "stream",
     "text": [
      "Requirement already satisfied: matplotlib in /opt/conda/lib/python3.7/site-packages (3.5.2)\r\n",
      "Requirement already satisfied: pyparsing>=2.2.1 in /opt/conda/lib/python3.7/site-packages (from matplotlib) (3.0.9)\r\n",
      "Requirement already satisfied: kiwisolver>=1.0.1 in /opt/conda/lib/python3.7/site-packages (from matplotlib) (1.4.2)\r\n",
      "Requirement already satisfied: python-dateutil>=2.7 in /opt/conda/lib/python3.7/site-packages (from matplotlib) (2.8.2)\r\n",
      "Requirement already satisfied: packaging>=20.0 in /opt/conda/lib/python3.7/site-packages (from matplotlib) (21.3)\r\n",
      "Requirement already satisfied: numpy>=1.17 in /opt/conda/lib/python3.7/site-packages (from matplotlib) (1.21.6)\r\n",
      "Requirement already satisfied: pillow>=6.2.0 in /opt/conda/lib/python3.7/site-packages (from matplotlib) (9.1.0)\r\n",
      "Requirement already satisfied: fonttools>=4.22.0 in /opt/conda/lib/python3.7/site-packages (from matplotlib) (4.33.3)\r\n",
      "Requirement already satisfied: cycler>=0.10 in /opt/conda/lib/python3.7/site-packages (from matplotlib) (0.11.0)\r\n",
      "Requirement already satisfied: typing-extensions in /opt/conda/lib/python3.7/site-packages (from kiwisolver>=1.0.1->matplotlib) (4.2.0)\r\n",
      "Requirement already satisfied: six>=1.5 in /opt/conda/lib/python3.7/site-packages (from python-dateutil>=2.7->matplotlib) (1.16.0)\r\n",
      "\u001b[33mWARNING: Running pip as the 'root' user can result in broken permissions and conflicting behaviour with the system package manager. It is recommended to use a virtual environment instead: https://pip.pypa.io/warnings/venv\u001b[0m\u001b[33m\r\n",
      "\u001b[0mNote: you may need to restart the kernel to use updated packages.\n"
     ]
    }
   ],
   "source": [
    "pip install matplotlib"
   ]
  },
  {
   "cell_type": "code",
   "execution_count": 6,
   "id": "c2b88413",
   "metadata": {
    "execution": {
     "iopub.execute_input": "2022-06-21T11:19:31.896217Z",
     "iopub.status.busy": "2022-06-21T11:19:31.895782Z",
     "iopub.status.idle": "2022-06-21T11:19:31.901105Z",
     "shell.execute_reply": "2022-06-21T11:19:31.900135Z"
    },
    "papermill": {
     "duration": 0.011591,
     "end_time": "2022-06-21T11:19:31.902752",
     "exception": false,
     "start_time": "2022-06-21T11:19:31.891161",
     "status": "completed"
    },
    "tags": []
   },
   "outputs": [],
   "source": [
    "import matplotlib.pyplot as plt"
   ]
  },
  {
   "cell_type": "code",
   "execution_count": 7,
   "id": "1fc3eb81",
   "metadata": {
    "execution": {
     "iopub.execute_input": "2022-06-21T11:19:31.911328Z",
     "iopub.status.busy": "2022-06-21T11:19:31.910770Z",
     "iopub.status.idle": "2022-06-21T11:19:32.208424Z",
     "shell.execute_reply": "2022-06-21T11:19:32.207767Z"
    },
    "papermill": {
     "duration": 0.303862,
     "end_time": "2022-06-21T11:19:32.210114",
     "exception": false,
     "start_time": "2022-06-21T11:19:31.906252",
     "status": "completed"
    },
    "tags": []
   },
   "outputs": [
    {
     "data": {
      "image/png": "[encoded data removed]",
      "text/plain": [
       "<Figure size 2160x720 with 1 Axes>"
      ]
     },
     "metadata": {
      "needs_background": "light"
     },
     "output_type": "display_data"
    }
   ],
   "source": [
    "\n",
    "Industries = list(industries.Industry)\n",
    "No_of_companies = list(industries.Number_Of_Companies)\n",
    "  \n",
    "fig = plt.figure(figsize = (30, 10))\n",
    " \n",
    "# creating the bar plot\n",
    "plt.bar(Industries, No_of_companies, color ='blue',\n",
    "        width = 0.4)\n",
    " \n",
    "plt.xlabel(\"Industries\")\n",
    "plt.ylabel(\"No. Of Companies Listed in NIFTY50\")\n",
    "plt.title(\"NO. Of Companies from different industries in NIFTY50\")\n",
    "plt.show()"
   ]
  },
  {
   "cell_type": "markdown",
   "id": "c1c37ce3",
   "metadata": {
    "papermill": {
     "duration": 0.003359,
     "end_time": "2022-06-21T11:19:32.217290",
     "exception": false,
     "start_time": "2022-06-21T11:19:32.213931",
     "status": "completed"
    },
    "tags": []
   },
   "source": [
    
   ]
  }
 ],
 "metadata": {
  "kernelspec": {
   "display_name": "Python 3",
   "language": "python",
   "name": "python3"
  },
  "language_info": {
   "codemirror_mode": {
    "name": "ipython",
    "version": 3
   },
   "file_extension": ".py",
   "mimetype": "text/x-python",
   "name": "python",
   "nbconvert_exporter": "python",
   "pygments_lexer": "ipython3",
   "version": "3.7.12"
  },
  "papermill": {
   "default_parameters": {},
   "duration": 25.030451,
   "end_time": "2022-06-21T11:19:33.041509",
   "environment_variables": {},
   "exception": null,
   "input_path": "__notebook__.ipynb",
   "output_path": "__notebook__.ipynb",
   "parameters": {},
   "start_time": "2022-06-21T11:19:08.011058",
   "version": "2.3.4"
  }
 },
 "nbformat": 4,
 "nbformat_minor": 5
}
